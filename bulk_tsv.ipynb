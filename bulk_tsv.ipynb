{
 "cells": [
  {
   "cell_type": "markdown",
   "metadata": {},
   "source": [
    "### Dumb test for Laurent et ses collegues"
   ]
  },
  {
   "cell_type": "code",
   "execution_count": 1,
   "metadata": {},
   "outputs": [],
   "source": [
    "import zipfile"
   ]
  },
  {
   "cell_type": "code",
   "execution_count": 2,
   "metadata": {},
   "outputs": [
    {
     "name": "stdout",
     "output_type": "stream",
     "text": [
      "URL data: \u001b[1mhttps://ec.europa.eu/eurostat/estat-navtree-portlet-prod/BulkDownloadListing?sort=1&file=data%2Fdemo_r_mweek3.tsv.gz\u001b[0m\n"
     ]
    }
   ],
   "source": [
    "domain = 'https://ec.europa.eu/eurostat/estat-navtree-portlet-prod/BulkDownloadListing?sort=1'\n",
    "file = 'demo_r_mweek3'\n",
    "ext = 'tsv.gz'\n",
    "url = '{}&file=data%2F{}.{}'.format(domain, file, ext)\n",
    "print(\"URL data: \\033[1m%s\\033[0m\" % url)"
   ]
  },
  {
   "cell_type": "code",
   "execution_count": 3,
   "metadata": {},
   "outputs": [
    {
     "name": "stdout",
     "output_type": "stream",
     "text": [
      "Method #1: fetch (harvest) the data then unzip\n",
      "--2020-06-02 15:19:47--  https://ec.europa.eu/eurostat/estat-navtree-portlet-prod/BulkDownloadListing?sort=1&file=data%2Fdemo_r_mweek3.tsv.gz\n",
      "Resolving ec.europa.eu (ec.europa.eu)... 2a01:7080:24:100::666:30, 2a01:7080:14:100::666:30, 147.67.34.30, ...\n",
      "Connecting to ec.europa.eu (ec.europa.eu)|2a01:7080:24:100::666:30|:443... connected.\n",
      "HTTP request sent, awaiting response... 200 OK\n",
      "Length: 18068776 (17M) [application/octet-stream]\n",
      "Saving to: ‘demo_r_mweek3.tsv.gz’\n",
      "\n",
      "demo_r_mweek3.tsv.g 100%[===================>]  17.23M  2.81MB/s    in 8.8s    \n",
      "\n",
      "2020-06-02 15:19:56 (1.95 MB/s) - ‘demo_r_mweek3.tsv.gz’ saved [18068776/18068776]\n",
      "\n",
      "Data loaded on disk in \u001b[1mdemo_r_mweek3.tsv.gz\u001b[0m\n",
      "\u001b[1m!!! This is not recognised as a regular zip file !!!\u001b[0m\n",
      "\u001b[1mBravo les b/poulets\u001b[0m - Still managed to unzip...\n"
     ]
    }
   ],
   "source": [
    "print ('Method #1: fetch (harvest) the data then unzip')\n",
    "\n",
    "dumb = '{}.{}'.format(file, ext)\n",
    "\n",
    "try:\n",
    "    !wget -O $dumb \"$url\"\n",
    "except:\n",
    "    raise IOError(\"Error fetching the data...\")\n",
    "else:\n",
    "    print('Data loaded on disk in \\033[1m%s\\033[0m' % dumb)\n",
    "    \n",
    "try:    \n",
    "    assert zipfile.is_zipfile(dumb)\n",
    "except:\n",
    "    print(\"\\033[1m!!! This is not recognised as a regular zip file !!!\\033[0m\")\n",
    "else:\n",
    "    print('\\033[1mRegular zip file\\033[0m')\n",
    "    \n",
    "try:    \n",
    "    !gunzip -f $dumb # common gunzip\n",
    "except:\n",
    "    raise IOError(\"Error unzipping the data...\")\n",
    "else:\n",
    "    print('\\033[1mBravo les b/poulets\\033[0m - Still managed to unzip...')"
   ]
  }
 ],
 "metadata": {
  "kernelspec": {
   "display_name": "Python 3",
   "language": "python",
   "name": "python3"
  },
  "language_info": {
   "codemirror_mode": {
    "name": "ipython",
    "version": 3
   },
   "file_extension": ".py",
   "mimetype": "text/x-python",
   "name": "python",
   "nbconvert_exporter": "python",
   "pygments_lexer": "ipython3",
   "version": "3.7.6"
  }
 },
 "nbformat": 4,
 "nbformat_minor": 4
}
